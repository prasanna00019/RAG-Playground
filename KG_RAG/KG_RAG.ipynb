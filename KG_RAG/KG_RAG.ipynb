{
 "cells": [
  {
   "cell_type": "markdown",
   "metadata": {},
   "source": [
    "# 🧠 Knowledge Graph RAG with LlamaIndex + Gemini (No Neo4j)\n",
    "\n",
    "A lightweight, Neo4j-free implementation of **Knowledge Graph Retrieval-Augmented Generation (KG-RAG)** using:\n",
    "- 🧾 LlamaIndex's `KnowledgeGraphIndex` + `SimpleGraphStore`\n",
    "- 🔍 Google Gemini 2.5 + Gemini Embeddings (`text-embedding-004`)\n",
    "- 📄 PDF document loader and triplet extractor\n",
    "- 🕸 PyVis network visualization for the knowledge graph [VIEW](/KG_RAG/KG_graph.html)\n",
    "- 📬 Hybrid querying with graph context and custom prompting\n",
    "\n",
    "---\n",
    "\n",
    "## 📘 What is KG-RAG?\n",
    "\n",
    "**KG-RAG** extends traditional RAG by retrieving structured **triplets (subject-predicate-object)** and building a **knowledge graph** over them. It enables more **context-aware, fact-checked, and explainable** answers from LLMs.\n",
    "\n",
    "Unlike vector-only RAG, KG-RAG gives the LLM a **domain model** of the data — enabling logical reasoning, relationship understanding, and minimal hallucination.\n",
    "\n",
    "---\n",
    "\n",
    "## 🧰 Tech Stack\n",
    "\n",
    "| Component        | Description                              |\n",
    "|------------------|------------------------------------------|\n",
    "| **LlamaIndex**   | For document parsing, graph indexing     |\n",
    "| **Gemini 2.5**   | For LLM-based querying                   |\n",
    "| **text-embedding-004** | For generating chunk-level embeddings |\n",
    "| **SimpleGraphStore** | In-memory triple store (no Neo4j)      |\n",
    "| **PyVis**        | Graph visualization                      |\n",
    "\n",
    "---\n",
    "\n",
    "## 🚀 How It Works\n",
    "\n",
    "1. 📄 Load PDF document using `SimpleDirectoryReader`\n",
    "2. 🧠 Split into chunks using `SentenceSplitter`\n",
    "3. 🔍 Extract triplets (subject-predicate-object) via `KnowledgeGraphIndex`\n",
    "4. 🗃️ Store triplets in an in-memory `SimpleGraphStore`\n",
    "5. 🌐 Visualize the graph with PyVis [VIEW](/KG_RAG/KG_graph.html)\n",
    "6. 💬 Run a hybrid query with Gemini and display the answer\n",
    "\n",
    "---"
   ]
  },
  {
   "cell_type": "code",
   "execution_count": 1,
   "metadata": {},
   "outputs": [],
   "source": [
    "# !pip install llama_index.llms.langchain\n",
    "# !pip install langchain_community\n",
    "# %pip install llama-index-embeddings-google-genai\n",
    "# !pip install llama_index\n",
    "%pip install -U langchain-google-genai\n",
    "# %pip install -qU langchain-groq\n",
    "!pip install llama-index-readers-file"
   ]
  },
  {
   "cell_type": "code",
   "execution_count": 4,
   "metadata": {},
   "outputs": [
    {
     "name": "stdout",
     "output_type": "stream",
     "text": [
      "Enter your Google AI API key: ··········\n"
     ]
    }
   ],
   "source": [
    "import getpass\n",
    "import os\n",
    "if \"GOOGLE_API_KEY\" not in os.environ:\n",
    "    os.environ[\"GOOGLE_API_KEY\"] = getpass.getpass(\"Enter your Google AI API key: \")"
   ]
  },
  {
   "cell_type": "code",
   "execution_count": 5,
   "metadata": {},
   "outputs": [],
   "source": [
    "from langchain_google_genai import ChatGoogleGenerativeAI\n",
    "llm = ChatGoogleGenerativeAI(\n",
    "    model=\"gemini-2.5-flash\",\n",
    "    temperature=0,\n",
    "    max_tokens=None,\n",
    "    timeout=None,\n",
    "    max_retries=2,\n",
    ")"
   ]
  },
  {
   "cell_type": "code",
   "execution_count": null,
   "metadata": {},
   "outputs": [],
   "source": [
    "%pip install llama-index-graph-stores-neo4j"
   ]
  },
  {
   "cell_type": "code",
   "execution_count": 17,
   "metadata": {},
   "outputs": [],
   "source": [
    "from llama_index.core import VectorStoreIndex, Settings, SimpleDirectoryReader\n",
    "from llama_index.core.node_parser import SentenceSplitter\n",
    "from llama_index.embeddings.google_genai import GoogleGenAIEmbedding\n",
    "documents = SimpleDirectoryReader(\"data\").load_data()\n",
    "splitter = SentenceSplitter(chunk_size=1000,chunk_overlap=200)\n",
    "nodes = splitter.get_nodes_from_documents(documents)\n",
    "embed_model = GoogleGenAIEmbedding(\n",
    "    model_name=\"text-embedding-004\",\n",
    "    embed_batch_size=100,\n",
    "    api_key=\"\"\n",
    ")\n",
    "Settings.embed_model = embed_model\n",
    "Settings.llm = llm"
   ]
  },
  {
   "cell_type": "code",
   "execution_count": null,
   "metadata": {},
   "outputs": [],
   "source": [
    "from llama_index.core import (\n",
    "    KnowledgeGraphIndex,\n",
    ")\n",
    "from llama_index.core import KnowledgeGraphIndex\n",
    "from llama_index.core.graph_stores import SimpleGraphStore\n",
    "from llama_index.core import StorageContext\n",
    "# from llama_index.graph_stores.neo4j import Neo4jGraphStore"
   ]
  },
  {
   "cell_type": "code",
   "execution_count": 46,
   "metadata": {},
   "outputs": [],
   "source": [
    "graph_store = SimpleGraphStore()\n",
    "storage_context = StorageContext.from_defaults(graph_store=graph_store)\n",
    "#Construct the Knowlege Graph Undex\n",
    "index = KnowledgeGraphIndex.from_documents( documents=documents,\n",
    "                                           max_triplets_per_chunk=3,\n",
    "                                           storage_context=storage_context,\n",
    "                                           embed_model=embed_model,\n",
    "                                          include_embeddings=True)"
   ]
  },
  {
   "cell_type": "code",
   "execution_count": null,
   "metadata": {},
   "outputs": [],
   "source": [
    "from pyvis.network import Network\n",
    "from IPython.display import display\n",
    "g = index.get_networkx_graph()\n",
    "net = Network(notebook=True,cdn_resources=\"in_line\",directed=True)\n",
    "net.from_nx(g)\n",
    "net.show(\"graph.html\")\n",
    "net.save_graph(\"KG_graph.html\")\n",
    "#\n",
    "import IPython\n",
    "IPython.display.HTML(filename=\"/content/KG_graph.html\")"
   ]
  },
  {
   "cell_type": "code",
   "execution_count": 79,
   "metadata": {},
   "outputs": [],
   "source": [
    "# query = \"What is Amazon S3? What is it used for?\"\n",
    "# query=\"what is AWS elastic beanstalk ?\"\n",
    "# query=\"what is amazon dynamoDB ? What is amazon SQS ?\"\n",
    "# query= \"what is amazon route 53 ? what is amazon elastic transcoder ? what is amazon glacier ?\"\n",
    "query=\"what is flipkart grid hackathon ?\"\n",
    "query_engine = index.as_query_engine(\n",
    "    include_text=True,\n",
    "    response_mode=\"tree_summarize\",\n",
    "    embedding_mode=\"hybrid\",\n",
    "    similarity_top_k=5,\n",
    ")\n",
    "\n",
    "message_template = f\"\"\"\n",
    "You are a factual assistant that answers questions using structured knowledge (like entity relationships).\n",
    "Answer in markdown format\n",
    "If the context below does NOT include any relevant information for answering the user's question, just respond with:\n",
    "\"I don't know based on the given information.\"\n",
    "\n",
    "DO NOT attempt to guess or fabricate an answer.\n",
    "DO NOT use prior knowledge beyond the given context.\n",
    "</s>\n",
    "<|user|>\n",
    "Question: {query}\n",
    "\n",
    "Context:\n",
    "{{context}}\n",
    "\n",
    "Helpful Answer:\n",
    "</s>\"\"\"\n",
    "\n",
    "response = query_engine.query(message_template)"
   ]
  },
  {
   "cell_type": "code",
   "execution_count": 61,
   "metadata": {},
   "outputs": [
    {
     "name": "stdout",
     "output_type": "stream",
     "text": [
      "Amazon S3 is a storage service for the Internet, designed to facilitate web-scale computing for developers. It offers a straightforward web services interface for storing and retrieving any amount of data from anywhere on the web, at any time. This service provides developers with access to the same highly scalable, reliable, secure, fast, and inexpensive infrastructure that Amazon utilizes for its global network of websites. Objects stored in Amazon S3 are contained within Amazon S3 buckets.\n"
     ]
    }
   ],
   "source": [
    "print(response)"
   ]
  },
  {
   "cell_type": "code",
   "execution_count": 70,
   "metadata": {},
   "outputs": [],
   "source": [
    "response_2=query_engine.query(message_template)"
   ]
  },
  {
   "cell_type": "code",
   "execution_count": 71,
   "metadata": {},
   "outputs": [
    {
     "name": "stdout",
     "output_type": "stream",
     "text": [
      "AWS Elastic Beanstalk is a service that simplifies the deployment and scaling of web applications and services. It supports various programming languages, including Java, .NET, PHP, Node.js, Python, and Ruby. The service automates deployment aspects such as capacity provisioning, load balancing, auto-scaling, and application health monitoring, while allowing users to maintain full control over the underlying AWS resources.\n"
     ]
    }
   ],
   "source": [
    "print(response_2)"
   ]
  },
  {
   "cell_type": "code",
   "execution_count": null,
   "metadata": {},
   "outputs": [],
   "source": [
    "response_3=query_engine.query(message_template)"
   ]
  },
  {
   "cell_type": "code",
   "execution_count": 74,
   "metadata": {},
   "outputs": [
    {
     "name": "stdout",
     "output_type": "stream",
     "text": [
      "Amazon DynamoDB is a fast, fully managed NoSQL database service designed to simplify and make cost-effective the storage and retrieval of any amount of data and handling of any level of request traffic. It stores all data items on Solid State Drives (SSDs) and replicates them across three Availability Zones for high availability and durability. This service allows users to offload the administrative burden of operating and scaling a highly available distributed database cluster, paying only for what they use. It automatically distributes data and traffic over a sufficient number of servers to manage specified request capacity and stored data, while maintaining consistent, fast performance.\n",
      "\n",
      "Amazon Simple Queue Service (Amazon SQS) is a fast, reliable, scalable, and fully managed message queuing service. It facilitates the decoupling of cloud application components in a simple and cost-effective manner. SQS enables the transmission of any volume of data at any throughput level without message loss or requiring other services to be continuously available. It also allows users to offload the administrative burden of operating and scaling a highly available messaging cluster, with a low variable cost based on usage.\n"
     ]
    }
   ],
   "source": [
    "print(response_3)"
   ]
  },
  {
   "cell_type": "code",
   "execution_count": 78,
   "metadata": {},
   "outputs": [
    {
     "name": "stdout",
     "output_type": "stream",
     "text": [
      "Amazon Route 53 is a highly available and scalable Domain Name System (DNS) web service. It is designed to provide a reliable and cost-effective way to route end users to Internet applications by translating human-readable names into numeric IP addresses.\n",
      "\n",
      "Amazon Elastic Transcoder is a media transcoding service in the cloud. It is designed to be a highly scalable, easy-to-use, and cost-effective way for developers and businesses to convert media files from their source format into versions suitable for playback on various devices like smartphones, tablets, and PCs.\n",
      "\n",
      "Amazon Glacier is an extremely low-cost storage service that offers secure and durable storage for data archiving and backup. It is optimized for data that is infrequently accessed and for which retrieval times of several hours are acceptable.\n"
     ]
    }
   ],
   "source": [
    "response_4=query_engine.query(message_template)\n",
    "print(response_4)"
   ]
  },
  {
   "cell_type": "code",
   "execution_count": 80,
   "metadata": {},
   "outputs": [
    {
     "name": "stdout",
     "output_type": "stream",
     "text": [
      "I don't know based on the given information.\n"
     ]
    }
   ],
   "source": [
    "response_5=query_engine.query(message_template)\n",
    "print(response_5)"
   ]
  }
 ],
 "metadata": {
  "language_info": {
   "name": "python"
  }
 },
 "nbformat": 4,
 "nbformat_minor": 0
}

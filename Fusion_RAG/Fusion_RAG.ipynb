{
 "cells": [
  {
   "cell_type": "markdown",
   "metadata": {},
   "source": [
    "# 🚀 Fusion RAG: Enhanced Retrieval-Augmented Generation\n",
    "\n",
    "Welcome to the **Fusion RAG** project! This notebook demonstrates an advanced Retrieval-Augmented Generation (RAG) pipeline inspired by the [RAG-Fusion](https://arxiv.org/pdf/2402.03367) approach. The workflow leverages multiple query reformulations, document retrieval, and robust re-ranking to generate high-quality, contextually rich responses using Large Language Models (LLMs).\n",
    "\n",
    "---\n",
    "\n",
    "## 🧩 How It Works\n",
    "\n",
    "1. **Query Reformulation**  \n",
    "    For a user's input query, we generate _n_ semantically diverse sub-queries to cover different aspects of the information need.\n",
    "\n",
    "2. **Document Retrieval**  \n",
    "    For each sub-query, we retrieve _m_ relevant documents from the knowledge base.\n",
    "\n",
    "3. **Re-ranking with RRF**  \n",
    "    All retrieved documents are re-ranked using the Reciprocal Rank Fusion (RRF) algorithm, which aggregates scores across queries to prioritize the most relevant content.\n",
    "\n",
    "4. **Fusion and Response Generation**  \n",
    "    The top fused documents and the set of sub-queries are provided to the LLM, which synthesizes a detailed and factual answer.\n",
    "\n",
    "---\n",
    "\n",
    "## 🛠️ Features\n",
    "\n",
    "- **Multi-query Expansion:** Improves recall by exploring diverse phrasings of the user's question.\n",
    "- **RRF-based Fusion:** Robustly combines evidence from multiple retrievals ([see paper](https://arxiv.org/pdf/2402.03367)).\n",
    "- **LLM-powered Synthesis:** Generates comprehensive answers grounded in retrieved evidence.\n",
    "\n",
    "---\n",
    "\n",
    "## 📦 Example Pipeline\n",
    "\n",
    "```python\n",
    "user_query = \"What is Amazon AWS?\"\n",
    "response = Fusion_RAG_Pipeline(user_query)\n",
    "print(response)\n",
    "```\n",
    "\n",
    "---\n",
    "\n",
    "## 📚 Reference\n",
    "\n",
    "- **RAG-FUSION: A NEW TAKE ON RETRIEVAL-AUGMENTED GENERATION**  \n",
    "  [arXiv:2402.03367](https://arxiv.org/pdf/2402.03367)\n",
    "\n",
    "---\n",
    "\n",
    "## ✨ Why Use Fusion RAG?\n",
    "\n",
    "- 🔍 **Better Coverage:** Multiple queries ensure broader information retrieval.\n",
    "- 🏆 **Improved Ranking:** RRF fusion surfaces the most relevant documents.\n",
    "- 🤖 **LLM Integration:** Final answers are both accurate and contextually rich.\n",
    "\n",
    "---\n",
    "\n",
    "## 🚦 Get Started\n",
    "\n",
    "1. Prepare your document corpus in the `data/` directory.\n",
    "2. Run the notebook cells in order.\n",
    "3. Use `Fusion_RAG_Pipeline(your_query)` to get high-quality, fused responses!\n",
    "\n",
    "---\n",
    "\n",
    "Happy experimenting! 💡"
   ]
  },
  {
   "cell_type": "code",
   "execution_count": 3,
   "metadata": {},
   "outputs": [
    {
     "name": "stdout",
     "output_type": "stream",
     "text": [
      "Enter your Groq API key: ··········\n"
     ]
    }
   ],
   "source": [
    "import getpass\n",
    "import os\n",
    "\n",
    "if \"GROQ_API_KEY\" not in os.environ:\n",
    "    os.environ[\"GROQ_API_KEY\"] = getpass.getpass(\"Enter your Groq API key: \")"
   ]
  },
  {
   "cell_type": "code",
   "execution_count": 4,
   "metadata": {},
   "outputs": [
    {
     "name": "stdout",
     "output_type": "stream",
     "text": [
      "Enter your Google AI API key: ··········\n"
     ]
    }
   ],
   "source": [
    "import getpass\n",
    "import os\n",
    "\n",
    "if \"GOOGLE_API_KEY\" not in os.environ:\n",
    "    os.environ[\"GOOGLE_API_KEY\"] = getpass.getpass(\"Enter your Google AI API key: \")"
   ]
  },
  {
   "cell_type": "code",
   "execution_count": 5,
   "metadata": {},
   "outputs": [],
   "source": [
    "# %pip install -U langchain-google-genai\n",
    "# %pip install -qU langchain-groq\n",
    "from langchain_google_genai import ChatGoogleGenerativeAI\n",
    "from langchain_groq import ChatGroq\n",
    "llm = ChatGoogleGenerativeAI(\n",
    "    model=\"gemini-2.5-flash\",\n",
    "    temperature=0,\n",
    "    max_tokens=None,\n",
    "    timeout=None,\n",
    "    max_retries=2,\n",
    ")\n",
    "llm_2 = ChatGroq(\n",
    "    model=\"deepseek-r1-distill-llama-70b\",\n",
    "    temperature=0,\n",
    "    max_tokens=None,\n",
    "    reasoning_format=\"parsed\",\n",
    "    timeout=None,\n",
    "    max_retries=2,\n",
    ")"
   ]
  },
  {
   "cell_type": "code",
   "execution_count": null,
   "metadata": {},
   "outputs": [],
   "source": [
    "!pip install llama_index.llms.langchain\n",
    "!pip install langchain_community\n",
    "%pip install llama-index-embeddings-google-genai\n",
    "!pip install llama_index"
   ]
  },
  {
   "cell_type": "code",
   "execution_count": 6,
   "metadata": {},
   "outputs": [],
   "source": [
    "from llama_index.core import VectorStoreIndex, Settings, SimpleDirectoryReader\n",
    "from llama_index.core.node_parser import SentenceSplitter\n",
    "from llama_index.embeddings.google_genai import GoogleGenAIEmbedding\n",
    "documents = SimpleDirectoryReader(\"data\").load_data()\n",
    "splitter = SentenceSplitter(chunk_size=1000,chunk_overlap=200)\n",
    "nodes = splitter.get_nodes_from_documents(documents)\n",
    "\n",
    "embed_model = GoogleGenAIEmbedding(\n",
    "    model_name=\"text-embedding-004\",\n",
    "    embed_batch_size=100,\n",
    ")\n",
    "Settings.embed_model = embed_model\n",
    "Settings.llm = llm\n",
    "vector_index = VectorStoreIndex(nodes)\n",
    "retriever = vector_index.as_retriever(similarity_top_k=5)"
   ]
  },
  {
   "cell_type": "code",
   "execution_count": 7,
   "metadata": {},
   "outputs": [],
   "source": [
    "def generate_multiple_queries(query, n=4):\n",
    "    \"\"\"\n",
    "    For a given query, generate n semantically diverse but relevant sub-queries.\n",
    "    \"\"\"\n",
    "    prompt = f\"\"\"\n",
    "You are an expert in reformulating user queries for improved document retrieval.\n",
    "\n",
    "Given the original query:\n",
    "\"{query}\"\n",
    "\n",
    "Generate {n} semantically diverse sub-queries that explore different ways of asking about the same topic.\n",
    "Return the sub-queries as a numbered list.\n",
    "\"\"\"\n",
    "    response = llm.invoke(prompt)\n",
    "    return [line.split(\". \", 1)[1] for line in response.content.strip().split(\"\\n\") if \". \" in line]"
   ]
  },
  {
   "cell_type": "code",
   "execution_count": 18,
   "metadata": {},
   "outputs": [],
   "source": [
    "multiple_queries= generate_multiple_queries(\"what is Amazon AWS?\")"
   ]
  },
  {
   "cell_type": "code",
   "execution_count": 20,
   "metadata": {},
   "outputs": [],
   "source": [
    "def retrieve_docs_for_each_query(queries,top_k=5):\n",
    "  list_of_all_docs=[]\n",
    "  \"\"\"\n",
    "  Retrieve documents for each query.\n",
    "  \"\"\"\n",
    "  for _query in queries:\n",
    "    list_of_all_docs.append(retriever.retrieve(_query))\n",
    "  return list_of_all_docs"
   ]
  },
  {
   "cell_type": "code",
   "execution_count": 21,
   "metadata": {},
   "outputs": [],
   "source": [
    "list_of_all_docs=retrieve_docs_for_each_query(multiple_queries)"
   ]
  },
  {
   "cell_type": "code",
   "execution_count": null,
   "metadata": {},
   "outputs": [],
   "source": [
    "from collections import defaultdict\n",
    "\n",
    "def ReRankWithRRF(list_of_all_docs, k=60, final_top_k=7):\n",
    "    \"\"\"\n",
    "    Re-rank all retrieved documents across queries using RRF.\n",
    "    Returns a fused, re-ranked list of top documents.\n",
    "    \"\"\"\n",
    "    doc_scores = defaultdict(float)\n",
    "    doc_ids = {}\n",
    "\n",
    "    for doc_list in list_of_all_docs:\n",
    "        for rank, doc in enumerate(doc_list):\n",
    "            # Use doc ID or content as unique key\n",
    "            key = getattr(doc, \"id\", doc.metadata.get(\"source\", None)) or doc.text.strip()\n",
    "            rrf_score = 1 / (k + rank + 1)\n",
    "            doc_scores[key] += rrf_score\n",
    "            doc_ids[key] = doc  # Keep the original doc\n",
    "\n",
    "    # Sort by aggregated RRF scores\n",
    "    sorted_docs = sorted(doc_scores.items(), key=lambda x: x[1], reverse=True)\n",
    "    for doc_key, score in sorted_docs[:final_top_k]:\n",
    "     doc_ids[doc_key].score = score\n",
    "    # Return top final_top_k documents\n",
    "    return [doc_ids[doc_key] for doc_key, _ in sorted_docs[:final_top_k]]"
   ]
  },
  {
   "cell_type": "code",
   "execution_count": 42,
   "metadata": {},
   "outputs": [],
   "source": [
    "fused_docs = ReRankWithRRF(list_of_all_docs)"
   ]
  },
  {
   "cell_type": "code",
   "execution_count": null,
   "metadata": {},
   "outputs": [],
   "source": [
    "def generate_fusion_rag_response(original_query, sub_queries, fused_docs, llm):\n",
    "    \"\"\"\n",
    "    Generate a final response using the original query, sub-queries, and fused documents.\n",
    "    \"\"\"\n",
    "\n",
    "    sub_query_section = \"\\n\".join([f\"{i+1}. {q}\" for i, q in enumerate(sub_queries)])\n",
    "\n",
    "    doc_section = \"\\n\\n\".join([\n",
    "        f\"Document {i+1}:\\n{doc.text.strip()}\"\n",
    "        for i, doc in enumerate(fused_docs)\n",
    "    ])\n",
    "\n",
    "    prompt = f\"\"\"\n",
    "You are a helpful assistant.\n",
    "\n",
    "A user asked the question:\n",
    "\"{original_query}\"\n",
    "\n",
    "To improve retrieval, we reformulated it into the following sub-queries:\n",
    "{sub_query_section}\n",
    "\n",
    "We retrieved the following relevant documents:\n",
    "{doc_section}\n",
    "\n",
    "Based on the documents above, answer the user's original question in a detailed and factual manner.\n",
    "\"\"\"\n",
    "\n",
    "    # Call the LLM\n",
    "    response = llm.invoke(prompt)\n",
    "    return response.content.strip()"
   ]
  },
  {
   "cell_type": "code",
   "execution_count": null,
   "metadata": {},
   "outputs": [
    {
     "name": "stdout",
     "output_type": "stream",
     "text": [
      "Amazon Web Services (AWS) is a comprehensive cloud computing platform provided by Amazon that offers a wide array of services to support businesses in building, deploying, and managing applications and workloads. Launched in 2006, AWS introduced a pay-as-you-go model, allowing businesses to replace upfront capital expenses with variable costs that scale according to their needs. This model eliminates the need for planning and procuring physical infrastructure, enabling quick resource provisioning.\n",
      "\n",
      "AWS provides over 140 services, including compute, storage, databases, analytics, networking, mobile, developer tools, IoT, security, and enterprise applications. These services are available on-demand, with no long-term commitments, making AWS accessible to businesses of all sizes, from startups to large enterprises. The platform emphasizes flexibility, scalability, and cost-efficiency, allowing businesses to respond swiftly to changing demands without managing physical servers.\n",
      "\n",
      "With a global presence in 190 countries, AWS ensures high availability, reliability, and security. It also offers educational resources like videos and labs to help users get started. Overall, AWS is a robust and user-friendly platform that empowers businesses to leverage cloud computing effectively, enhancing their operational efficiency and agility.\n"
     ]
    }
   ],
   "source": [
    "user_query=\"what is amazon AWS ?\"\n",
    "response = generate_fusion_rag_response(\n",
    "    original_query=user_query,\n",
    "    sub_queries=multiple_queries,\n",
    "    fused_docs=fused_docs,\n",
    "    llm=llm_2\n",
    ")\n",
    "print(response)"
   ]
  },
  {
   "cell_type": "code",
   "execution_count": 62,
   "metadata": {},
   "outputs": [],
   "source": [
    "def Fusion_RAG_Pipeline(query):\n",
    "  multiple_queries= generate_multiple_queries(query)\n",
    "  list_of_all_docs=retrieve_docs_for_each_query(multiple_queries)\n",
    "  fused_docs = ReRankWithRRF(list_of_all_docs)\n",
    "  response = generate_fusion_rag_response(\n",
    "    original_query=query,\n",
    "    sub_queries=multiple_queries,\n",
    "    fused_docs=fused_docs,\n",
    "    llm=llm_2\n",
    "  )\n",
    "  return response"
   ]
  },
  {
   "cell_type": "code",
   "execution_count": 52,
   "metadata": {},
   "outputs": [],
   "source": [
    "Settings.llm=llm_2"
   ]
  },
  {
   "cell_type": "code",
   "execution_count": 53,
   "metadata": {},
   "outputs": [
    {
     "name": "stdout",
     "output_type": "stream",
     "text": [
      "Amazon Web Services (AWS) is a comprehensive cloud computing platform that offers a wide array of services designed to meet various business needs. Here's an organized overview of AWS cloud platforms:\n",
      "\n",
      "### What is AWS?\n",
      "AWS is a subsidiary of Amazon that provides on-demand cloud computing services and APIs to individuals, businesses, and governments. It offers a highly reliable, scalable, and low-cost infrastructure platform that supports a broad range of applications, from simple websites to complex enterprise applications.\n",
      "\n",
      "### Main Categories of AWS Services\n",
      "\n",
      "1. **Compute Services**\n",
      "   - **Amazon EC2 (Elastic Compute Cloud):** Provides virtual servers for computing and storage, allowing users to run applications in the cloud.\n",
      "   - **Amazon Lambda:** A serverless compute service that runs code in response to events without requiring server management.\n",
      "   - **Amazon Elastic Container Service (ECS):** A container orchestration service for Docker containers.\n",
      "\n",
      "2. **Storage Services**\n",
      "   - **Amazon S3 (Simple Storage Service):** An object storage service for storing and retrieving large amounts of data.\n",
      "   - **Amazon EBS (Elastic Block Store):** Provides persistent block-level storage volumes for EC2 instances.\n",
      "   - **Amazon Elastic File System (EFS):** A fully managed file storage service for use with EC2 instances.\n",
      "\n",
      "3. **Database Services**\n",
      "   - **Amazon RDS (Relational Database Service):** Supports relational databases like MySQL, PostgreSQL, Oracle, SQL Server, and Amazon Aurora.\n",
      "   - **Amazon DynamoDB:** A fast, fully managed NoSQL database service.\n",
      "   - **Amazon Redshift:** A data warehouse service for analytics and data processing.\n",
      "\n",
      "4. **Analytics Services**\n",
      "   - **Amazon Redshift:** A fully managed data warehouse service for large-scale data analysis.\n",
      "   - **Amazon Rekognition:** A deep learning-based image and video analysis service.\n",
      "   - **Amazon QuickSight:** A fast, cloud-powered business intelligence service.\n",
      "\n",
      "5. **Networking Services**\n",
      "   - **Amazon VPC (Virtual Private Cloud):** Allows users to create a virtual network for their AWS resources.\n",
      "   - **Amazon Route 53:** A highly available and scalable Domain Name System (DNS) service.\n",
      "   - **AWS Direct Connect:** Establishes a dedicated network connection from a premises to AWS.\n",
      "\n",
      "6. **Security, Identity & Compliance Services**\n",
      "   - **AWS IAM (Identity and Access Management):** Manages user access and permissions across AWS services.\n",
      "   - **Amazon Cognito:** Provides user identity and access control for web and mobile applications.\n",
      "   - **AWS CloudHSM:** A cloud-based hardware security module for key storage and operations.\n",
      "\n",
      "7. **Application Services**\n",
      "   - **Amazon API Gateway:** Manages RESTful APIs and WebSocket APIs.\n",
      "   - **Amazon SQS (Simple Queue Service):** A message queuing service for decoupling application components.\n",
      "   - **Amazon SNS (Simple Notification Service):** A pub/sub messaging service for sending notifications.\n",
      "\n",
      "8. **Management & Governance Services**\n",
      "   - **AWS CloudFormation:** A service for infrastructure-as-code, allowing users to define cloud resources using templates.\n",
      "   - **AWS CloudWatch:** Monitors AWS resources and applications, providing metrics and logs.\n",
      "   - **AWS Config:** Tracks resource configurations and compliance.\n",
      "\n",
      "9. **Machine Learning Services**\n",
      "   - **Amazon SageMaker:** A fully managed service for building, training, and deploying machine learning models.\n",
      "   - **Amazon Rekognition:** Provides computer vision capabilities for image and video analysis.\n",
      "   - **Amazon Comprehend:** A natural language processing service for text analysis.\n",
      "\n",
      "10. **Customer Engagement Services**\n",
      "    - **Amazon Connect:** A cloud-based contact center service.\n",
      "    - **Amazon Pinpoint:** A service for targeted marketing and user engagement.\n",
      "\n",
      "### Benefits of AWS\n",
      "- **Scalability:** Services can scale up or down based on demand, ensuring optimal resource utilization.\n",
      "- **Cost-Effective:** Pay-as-you-go pricing model eliminates upfront capital expenses.\n",
      "- **Reliability:** Built-in redundancy and high availability ensure minimal downtime.\n",
      "- **Security:** Robust security features and compliance certifications protect sensitive data.\n",
      "\n",
      "### Conclusion\n",
      "AWS offers a vast array of cloud services that cater to various computing needs, from basic web hosting to complex enterprise applications. Its scalable, secure, and cost-effective solutions make it a leading choice for businesses worldwide. Whether you're looking for compute power, storage solutions, database management, or advanced analytics, AWS provides the tools and services to support your business requirements.\n"
     ]
    }
   ],
   "source": [
    "query_2=\"what are some Amazon Web Services Cloud Platforms ?\"\n",
    "response_2=Fusion_RAG_Pipeline(query_2)\n",
    "print(response_2)"
   ]
  },
  {
   "cell_type": "code",
   "execution_count": 49,
   "metadata": {},
   "outputs": [
    {
     "name": "stdout",
     "output_type": "stream",
     "text": [
      "AWS provides a comprehensive suite of services and tools that cater to the needs of the Internet of Things (IoT), enabling businesses to build, manage, and scale IoT solutions effectively. Here's a detailed overview of how AWS relates to IoT:\n",
      "\n",
      "### AWS IoT Services\n",
      "\n",
      "1. **AWS IoT Core**: This service is designed for device connectivity and management. It allows secure communication between IoT devices and the cloud, enabling efficient data exchange and device management.\n",
      "\n",
      "2. **AWS IoT Greengrass**: Focused on edge computing, this service allows data processing at the edge, reducing latency and enabling devices to operate even without a constant internet connection.\n",
      "\n",
      "3. **AWS IoT Analytics**: This fully managed service is tailored for processing and analyzing IoT data. It supports ad-hoc and scheduled queries, machine learning integration, and can handle large volumes of data from millions of devices.\n",
      "\n",
      "4. **AWS IoT Device Management**: This service simplifies managing large fleets of IoT devices. It supports bulk registration, permission management, remote firmware updates, and device monitoring.\n",
      "\n",
      "5. **AWS IoT SiteWise**: Specifically designed for industrial settings, this service collects, organizes, and sends equipment data to the cloud for analysis, facilitating industrial monitoring and performance metrics.\n",
      "\n",
      "6. **AWS IoT Events**: This service detects and responds to specific events from IoT sensors, enabling automated actions for scenarios like equipment malfunctions.\n",
      "\n",
      "7. **AWS IoT 1-Click**: Simplifies setting up simple devices to trigger actions, such as notifications or asset tracking, without requiring firmware development.\n",
      "\n",
      "8. **AWS IoT Things Graph**: Facilitates the integration of devices and creation of applications using a visual interface, enabling deployment to edge devices.\n",
      "\n",
      "### Infrastructure and Tools\n",
      "\n",
      "AWS provides robust infrastructure for IoT, including secure connectivity, edge computing capabilities, and scalable data processing. Tools like AWS IoT Greengrass and IoT Core ensure that devices can operate efficiently and securely, whether in the cloud or at the edge.\n",
      "\n",
      "### Use Cases\n",
      "\n",
      "- **Industrial Monitoring**: Collecting and analyzing data from industrial equipment for performance optimization.\n",
      "- **Smart Homes and Cities**: Managing connected devices for automation and efficiency.\n",
      "- **Asset Tracking**: Monitoring and managing assets in real-time for logistics and supply chain optimization.\n",
      "\n",
      "### Benefits\n",
      "\n",
      "- **Scalability**: AWS services scale to handle data from millions of devices, making it suitable for large-scale IoT deployments.\n",
      "- **Cost-Effectiveness**: Reduces the need for extensive hardware and expertise by providing managed services.\n",
      "- **Advanced Analytics**: Integrates with machine learning services for predictive analytics and improved decision-making.\n",
      "- **Security**: Offers secure connectivity and management features, protecting IoT deployments from vulnerabilities.\n",
      "\n",
      "In summary, AWS provides a robust ecosystem for IoT, offering a range of services that simplify device connectivity, data processing, and application development. This enables businesses to leverage IoT for innovation and efficiency across various industries.\n"
     ]
    }
   ],
   "source": [
    "query_3=\"how AWS relates to IoT(internet of things) ?\"\n",
    "response_3=Fusion_RAG_Pipeline(query_3)\n",
    "print(response_3)"
   ]
  },
  {
   "cell_type": "code",
   "execution_count": 54,
   "metadata": {},
   "outputs": [
    {
     "name": "stdout",
     "output_type": "stream",
     "text": [
      "AWS offers a comprehensive suite of services that simplify and enhance IoT (Internet of Things) solutions. These services include:\n",
      "\n",
      "1. **AWS IoT 1-Click**: Enables simple devices to trigger AWS Lambda functions, allowing actions like notifications or asset tracking without requiring firmware changes or complex configurations.\n",
      "\n",
      "2. **AWS IoT Analytics**: A fully-managed service that processes large volumes of IoT data, automating filtering, transformation, and enrichment to make data analysis more effective, especially when integrated with third-party data.\n",
      "\n",
      "3. **AWS IoT SiteWise**: Facilitates industrial data collection and management by connecting to on-premises equipment, enabling performance monitoring and application development to optimize operations.\n",
      "\n",
      "4. **AWS IoT Things Graph**: Provides a visual interface to connect devices and services, simplifying the creation of IoT applications through a drag-and-drop model, thus reducing the need for extensive coding.\n",
      "\n",
      "These services collectively streamline IoT device management, data analysis, and application development, making it easier for businesses to implement scalable and efficient IoT solutions across various industries.\n"
     ]
    }
   ],
   "source": [
    "#NAIVE RAG RESPONSE NOT THAT GOOD AS COMPARED TO FUSION RAG\n",
    "query_engine=vector_index.as_query_engine()\n",
    "response_3=query_engine.query(query_3)\n",
    "print(response_3)"
   ]
  },
  {
   "cell_type": "code",
   "execution_count": 50,
   "metadata": {},
   "outputs": [
    {
     "name": "stdout",
     "output_type": "stream",
     "text": [
      "Amazon Web Services (AWS) offers a comprehensive suite of media services designed to support the media and entertainment industry with scalable, flexible, and cost-effective solutions. These services cater to various aspects of media workflows, including content creation, processing, delivery, and monetization. Below is a detailed overview of AWS media services, focusing on their core offerings, solutions for video streaming and live broadcasting, and support for content workflows.\n",
      "\n",
      "### Core Media and Entertainment Services Offered by AWS\n",
      "\n",
      "AWS provides a range of services tailored to meet the needs of media professionals, from live video streaming to content delivery and monetization. These services are designed to handle the complexities of modern media workflows, ensuring high performance, reliability, and security.\n",
      "\n",
      "1. **AWS Elemental MediaConnect**  \n",
      "   AWS Elemental MediaConnect is a cloud-based service that enables the transport of live video content. It allows users to ingest live video from remote locations, share video streams with partners, or replicate streams for further processing. MediaConnect combines reliable video transport, secure stream sharing, and real-time monitoring, allowing users to focus on content creation rather than infrastructure management.\n",
      "\n",
      "2. **AWS Elemental MediaConvert**  \n",
      "   AWS Elemental MediaConvert is a file-based video transcoding service that offers broadcast-grade features. It simplifies the creation of video-on-demand (VOD) content for both broadcast and multiscreen delivery. The service supports advanced video and audio capabilities, with a pay-as-you-go pricing model, making it cost-effective for scaling VOD content.\n",
      "\n",
      "3. **AWS Elemental MediaPackage**  \n",
      "   AWS Elemental MediaPackage is a video origination and packaging service that prepares live video streams for distribution. It supports various streaming formats and digital rights management (DRM) for content protection. MediaPackage automatically scales to handle changes in viewer demand, ensuring a high-quality experience without the need for capacity planning.\n",
      "\n",
      "4. **AWS Elemental MediaStore**  \n",
      "   AWS Elemental MediaStore is a storage service optimized for media. It provides the performance, consistency, and low latency required for delivering live streaming video content. MediaStore acts as the origin store in video workflows, meeting the demands of high-performance media delivery while offering cost-effective storage solutions.\n",
      "\n",
      "5. **AWS Elemental MediaTailor**  \n",
      "   AWS Elemental MediaTailor enables video providers to insert targeted advertising into their video streams. It supports personalized ad insertion without compromising the quality of the broadcast experience. This service is particularly useful for monetizing video content by delivering ads tailored to individual viewers.\n",
      "\n",
      "### Solutions for Video Streaming, Live Broadcasting, and Content Processing\n",
      "\n",
      "AWS offers robust solutions for video streaming, live broadcasting, and content processing, leveraging its suite of Elemental services.\n",
      "\n",
      "1. **Live Video Workflows**  \n",
      "   AWS Elemental MediaConnect and MediaPackage work together to support live video workflows. MediaConnect handles the ingestion and transport of live video, while MediaPackage prepares and packages the content for distribution to various devices and platforms.\n",
      "\n",
      "2. **Video-on-Demand (VOD)**  \n",
      "   AWS Elemental MediaConvert is central to VOD workflows, enabling the transcoding of video content into multiple formats for delivery across different devices. MediaStore provides the storage and delivery infrastructure needed for VOD content.\n",
      "\n",
      "3. **Content Monetization**  \n",
      "   AWS Elemental MediaTailor supports content monetization by enabling targeted advertising. This service integrates seamlessly with other AWS media services, allowing video providers to insert ads into live and on-demand streams without disrupting the viewer experience.\n",
      "\n",
      "### Support for Content Creation, Delivery, and Monetization Workflows\n",
      "\n",
      "AWS media services are designed to support the entire content lifecycle, from creation to delivery and monetization.\n",
      "\n",
      "1. **Content Creation**  \n",
      "   AWS provides tools and services that simplify the creation of high-quality media content. For example, AWS Elemental MediaConvert supports advanced video and audio features, enabling the creation of broadcast-grade VOD content.\n",
      "\n",
      "2. **Content Delivery**  \n",
      "   AWS Elemental MediaPackage and MediaStore ensure that content is delivered efficiently to viewers worldwide. MediaPackage handles the packaging and origination of live streams, while MediaStore provides low-latency storage and delivery for live and on-demand content.\n",
      "\n",
      "3. **Content Monetization**  \n",
      "   AWS Elemental MediaTailor allows video providers to monetize their content through targeted advertising. This service integrates with other AWS media services, enabling a seamless ad insertion process that does not compromise video quality.\n",
      "\n",
      "### Overview of AWS Elemental and Key Media Technologies\n",
      "\n",
      "AWS Elemental is a suite of services and tools designed specifically for the media and entertainment industry. These services are built on AWS’s cloud infrastructure, providing scalability, reliability, and cost-effectiveness.\n",
      "\n",
      "1. **AWS Elemental Media Services**  \n",
      "   The AWS Elemental suite includes MediaConnect, MediaConvert, MediaPackage, MediaStore, and MediaTailor. These services cover the entire media workflow, from live video transport to content delivery and monetization.\n",
      "\n",
      "2. **Integration with AWS Cloud Infrastructure**  \n",
      "   AWS Elemental services are tightly integrated with the broader AWS cloud platform, allowing users to leverage other AWS services for storage, compute, and analytics. This integration enables media companies to build end-to-end workflows that are highly scalable and efficient.\n",
      "\n",
      "3. **Key Features**  \n",
      "   AWS Elemental services are known for their broadcast-grade quality, scalability, and security. They support advanced features such as DRM for content protection, targeted advertising for monetization, and real-time monitoring for reliable content delivery.\n",
      "\n",
      "### Conclusion\n",
      "\n",
      "Amazon AWS offers a comprehensive suite of media services that cater to the needs of the media and entertainment industry. From live video streaming to content delivery and monetization, AWS provides scalable, secure, and cost-effective solutions. AWS Elemental services, including MediaConnect, MediaConvert, MediaPackage, MediaStore, and MediaTailor, are central to these offerings, enabling media companies to focus on content creation and delivery while leveraging the power of the AWS cloud.\n"
     ]
    }
   ],
   "source": [
    "query_4=\"tell about media services of Amazon AWS\"\n",
    "response_4=Fusion_RAG_Pipeline(query_4)\n",
    "print(response_4)"
   ]
  },
  {
   "cell_type": "code",
   "execution_count": 56,
   "metadata": {},
   "outputs": [
    {
     "name": "stdout",
     "output_type": "stream",
     "text": [
      "Amazon Web Services (AWS) offers a comprehensive suite of storage services designed to meet various data management needs. Here is an organized overview of the storage services mentioned in the provided documents:\n",
      "\n",
      "1. **Amazon S3 (Simple Storage Service)**:\n",
      "   - **Purpose**: Object storage for data such as media, documents, and other files.\n",
      "   - **Features**: High durability (11 nines), scalable, and accessible via REST API or SDKs.\n",
      "\n",
      "2. **Amazon Elastic Block Store (EBS)**:\n",
      "   - **Purpose**: Block-level storage for EC2 instances.\n",
      "   - **Features**: Persistent, automatically replicated within an Availability Zone for high availability and low-latency performance.\n",
      "\n",
      "3. **Amazon Elastic File System (EFS)**:\n",
      "   - **Purpose**: Fully managed file storage service for distributed or shared file systems.\n",
      "   - **Features**: Supports multiple EC2 instances accessing shared files simultaneously.\n",
      "\n",
      "4. **Amazon FSx**:\n",
      "   - **Purpose**: Fully managed file system service, including support for Windows-compatible file systems via SMB protocol.\n",
      "   - **Features**: High durability and availability, cost-effective with no upfront costs.\n",
      "\n",
      "5. **Amazon S3 Glacier**:\n",
      "   - **Purpose**: Long-term data archiving and backup.\n",
      "   - **Features**: Low-cost, highly durable, with features like query-in-place for analytics on archived data.\n",
      "\n",
      "These services provide a range of solutions from high-performance block storage to cost-effective archiving, catering to different storage needs within AWS.\n"
     ]
    }
   ],
   "source": [
    "query_5=\"what are the storage services provided by amazon AWS ?\"\n",
    "response_5=Fusion_RAG_Pipeline(query_5)\n",
    "print(response_5)"
   ]
  },
  {
   "cell_type": "code",
   "execution_count": 60,
   "metadata": {},
   "outputs": [
    {
     "name": "stdout",
     "output_type": "stream",
     "text": [
      "Amazon Web Services (AWS) provides a comprehensive suite of security services designed to protect data, ensure compliance, and offer scalable solutions. Here is an organized overview of the key security services offered by AWS:\n",
      "\n",
      "1. **Infrastructure Security**: AWS ensures a secure data center and network architecture, allowing customers to benefit from a high level of security without managing physical servers, thus reducing costs.\n",
      "\n",
      "2. **Compliance and Governance**: AWS manages numerous compliance programs, simplifying the compliance process for customers by handling a significant portion of compliance requirements.\n",
      "\n",
      "3. **AWS Single Sign-On (SSO)**: This service enables centralized management of access to multiple AWS accounts and business applications, supporting SAML integrations with various third-party apps.\n",
      "\n",
      "4. **Amazon GuardDuty**: A threat detection service that uses threat intelligence and machine learning to identify unauthorized activities and potential threats, providing detailed alerts for actionable responses.\n",
      "\n",
      "5. **AWS Secrets Manager**: This service protects sensitive information by controlling access and auditing, ensuring secure management of secrets like database credentials and API keys.\n",
      "\n",
      "6. **AWS Shield**: Offers DDoS protection with two tiers—Standard and Advanced. Shield Standard is automatically enabled and protects against common DDoS attacks, while Shield Advanced provides enhanced protection.\n",
      "\n",
      "These services collectively ensure that AWS customers can maintain a secure environment, meet compliance standards, and scale their security needs efficiently.\n"
     ]
    }
   ],
   "source": [
    "query_6=\"what are the security services provided by amazon AWS\"\n",
    "response_6=Fusion_RAG_Pipeline(query_6)\n",
    "print(response_6)"
   ]
  },
  {
   "cell_type": "code",
   "execution_count": 63,
   "metadata": {},
   "outputs": [
    {
     "name": "stdout",
     "output_type": "stream",
     "text": [
      "AWS offers a comprehensive suite of services tailored for Machine Learning (ML) and Artificial Intelligence (AI). These services cater to various aspects of the ML lifecycle, from data preparation and model training to deployment and inference. Here's an organized overview of the key services:\n",
      "\n",
      "1. **Amazon SageMaker**: A fully managed platform designed to simplify the entire ML workflow. It supports building, training, and deploying models, integrating seamlessly with other AWS services.\n",
      "\n",
      "2. **Amazon Personalize**: Specializes in creating personalized recommendations by analyzing data and training custom models, ideal for enhancing user experiences with tailored suggestions.\n",
      "\n",
      "3. **AWS Deep Learning AMIs**: Pre-configured Amazon EC2 instances that come with popular deep learning frameworks, allowing users to quickly set up environments for model training and experimentation.\n",
      "\n",
      "4. **AWS Inferentia**: A custom-built ASIC chip optimized for high-performance inference, offering cost-effective and efficient processing for complex ML models.\n",
      "\n",
      "5. **Amazon Elastic Inference**: Provides low-cost GPU acceleration for EC2 and SageMaker instances, reducing the cost of inference workloads by up to 75%.\n",
      "\n",
      "6. **Apache MXNet on AWS**: A deep learning framework supported by AWS, offering an easy-to-use interface (Gluon) for building models, which can be used with SageMaker for scalable deployments.\n",
      "\n",
      "7. **AWS DeepRacer**: A service that allows deployment of ML models in a fun, competitive environment, such as racing drones or cars, promoting hands-on learning and experimentation.\n",
      "\n",
      "8. **Amazon Transcribe**: An AI-driven service for speech-to-text transcription, capable of real-time streaming and supporting various applications like customer service and subtitling.\n",
      "\n",
      "9. **SageMaker Ground Truth**: A tool within SageMaker for efficiently creating labeled training datasets, leveraging both human annotators and automated processes to ensure high-quality data.\n",
      "\n",
      "These services collectively enable developers and data scientists to efficiently build, train, and deploy ML models, leveraging AWS's scalable and secure infrastructure.\n"
     ]
    }
   ],
   "source": [
    "query_7=\"what are services AWS provides related to Machine Learning or AI \"\n",
    "response_7=Fusion_RAG_Pipeline(query_7)\n",
    "print(response_7)"
   ]
  },
  {
   "cell_type": "code",
   "execution_count": 65,
   "metadata": {},
   "outputs": [
    {
     "name": "stdout",
     "output_type": "stream",
     "text": [
      "**Management and Governance Services of Amazon AWS**\n",
      "\n",
      "Amazon Web Services (AWS) offers a comprehensive suite of tools and services designed to help users effectively manage their cloud resources and ensure governance. These services can be categorized into Management and Governance, each playing a crucial role in maintaining efficiency, security, and compliance in the cloud environment.\n",
      "\n",
      "### Management Services\n",
      "\n",
      "1. **AWS Identity and Access Management (IAM)**\n",
      "   - **Description:** IAM allows users to securely control access to AWS resources by creating and managing users, groups, and permissions. It ensures that only authorized personnel have access to specific resources, enhancing security and governance.\n",
      "\n",
      "2. **AWS CloudTrail**\n",
      "   - **Description:** CloudTrail records API calls and delivers log files, providing a history of API activity. This service is essential for auditing, tracking changes, and ensuring compliance.\n",
      "\n",
      "3. **AWS Config**\n",
      "   - **Description:** Config offers resource inventory, configuration history, and change notifications. It helps in maintaining compliance by tracking resource configurations and detecting any deviations.\n",
      "\n",
      "4. **AWS Systems Manager**\n",
      "   - **Description:** Systems Manager provides a unified interface for operational data and automation. It simplifies resource and application management, aiding in monitoring, troubleshooting, and secure infrastructure operations.\n",
      "\n",
      "5. **AWS Auto Scaling**\n",
      "   - **Description:** Auto Scaling dynamically adjusts resource capacity to optimize performance and cost. It ensures applications have the right resources at the right time.\n",
      "\n",
      "6. **AWS Management Console, CLI, and SDKs**\n",
      "   - **Description:** These are the primary interfaces for managing AWS services, offering flexibility and ease of use for various management tasks.\n",
      "\n",
      "### Governance Services\n",
      "\n",
      "1. **AWS Control Tower**\n",
      "   - **Description:** Control Tower automates the setup of a secure, well-architected multi-account environment. It helps establish a baseline for governance and security.\n",
      "\n",
      "2. **AWS Service Catalog**\n",
      "   - **Description:** Service Catalog allows centralized management of approved IT services, ensuring consistent governance and compliance while enabling quick deployment of necessary services.\n",
      "\n",
      "3. **AWS Trusted Advisor**\n",
      "   - **Description:** Trusted Advisor provides real-time guidance to optimize AWS environments according to best practices, focusing on cost, performance, and security.\n",
      "\n",
      "### Conclusion\n",
      "\n",
      "AWS offers a robust set of services that cater to both management and governance needs. These tools help users maintain control, ensure compliance, and optimize their cloud infrastructure efficiently. By leveraging these services, organizations can enhance their operational efficiency and maintain a secure, compliant cloud environment.\n"
     ]
    }
   ],
   "source": [
    "query_8=\"what are the Management and Governance services of Amazon AWS ?\"\n",
    "response_8=Fusion_RAG_Pipeline(query_8)\n",
    "print(response_8)"
   ]
  }
 ],
 "metadata": {
  "language_info": {
   "name": "python"
  }
 },
 "nbformat": 4,
 "nbformat_minor": 0
}
